{
 "cells": [
  {
   "cell_type": "markdown",
   "metadata": {},
   "source": [
    "RQ3 - How do Dockerfiles co-evolve with other source code?\n",
    "=============="
   ]
  },
  {
   "cell_type": "markdown",
   "metadata": {
    "toc-hr-collapsed": false
   },
   "source": [
    "# Dependencies and Configurations"
   ]
  },
  {
   "cell_type": "markdown",
   "metadata": {},
   "source": [
    "## Import Dependencies"
   ]
  },
  {
   "cell_type": "code",
   "execution_count": 1,
   "metadata": {},
   "outputs": [],
   "source": [
    "import numpy as np\n",
    "import pandas as pd\n",
    "from scipy import stats\n",
    "import itertools\n",
    "from datetime import datetime\n",
    "import time\n",
    "import matplotlib.pyplot as plt\n",
    "import matplotlib.dates as mdate\n",
    "import matplotlib.ticker as ticker\n",
    "import psycopg2\n",
    "import os, gc\n",
    "import re\n",
    "from pandarallel import pandarallel\n",
    "import warnings"
   ]
  },
  {
   "cell_type": "markdown",
   "metadata": {},
   "source": [
    "## Database Configurations"
   ]
  },
  {
   "cell_type": "code",
   "execution_count": 2,
   "metadata": {},
   "outputs": [],
   "source": [
    "POSTGRESQL_USER = os.getenv('POSTGRESQL_USER') if os.getenv('POSTGRESQL_USER') is not None else 'dockerstudy'\n",
    "POSTGRESQL_PASSWORD = os.getenv('POSTGRESQL_PASSWORD') if os.getenv('POSTGRESQL_PASSWORD') is not None else 'dockerstudy'\n",
    "POSTGRESQL_HOST_IP = os.getenv('POSTGRESQL_HOST_IP') if os.getenv('POSTGRESQL_HOST_IP') is not None else 'localhost'\n",
    "POSTGRESQL_PORT = os.getenv('POSTGRESQL_PORT') if os.getenv('POSTGRESQL_PORT') is not None else '5432'\n",
    "POSTGRESQL_DATABASE = os.getenv('POSTGRESQL_DATABASE') if os.getenv('POSTGRESQL_DATABASE') is not None else 'dockerstudy'"
   ]
  },
  {
   "cell_type": "markdown",
   "metadata": {},
   "source": [
    "## Load the relevant tables"
   ]
  },
  {
   "cell_type": "code",
   "execution_count": 3,
   "metadata": {},
   "outputs": [],
   "source": [
    "conn = psycopg2.connect(database=POSTGRESQL_DATABASE, user=POSTGRESQL_USER, password=POSTGRESQL_PASSWORD, host=POSTGRESQL_HOST_IP, port=POSTGRESQL_PORT)\n",
    "Commits = pd.read_sql_query('''\n",
    "select commit_id, commit_sha, repo_id, parents, repo_name, repo_location, stats_total, stats_additions, stats_deletions, changed_file_count, changed_files, author_committed_at, committer_committed_at\n",
    "from public.commit\n",
    "''', con = conn)\n",
    "conn.close()"
   ]
  },
  {
   "cell_type": "code",
   "execution_count": 4,
   "metadata": {},
   "outputs": [],
   "source": [
    "conn = psycopg2.connect(database=POSTGRESQL_DATABASE, user=POSTGRESQL_USER, password=POSTGRESQL_PASSWORD, host=POSTGRESQL_HOST_IP, port=POSTGRESQL_PORT)\n",
    "Images = pd.read_sql_query('''\n",
    "select image_name, source_repo_id, pull_count\n",
    "from public.image\n",
    "where source_repo_id is not null\n",
    "''', con = conn)\n",
    "conn.close()"
   ]
  },
  {
   "cell_type": "code",
   "execution_count": 5,
   "metadata": {},
   "outputs": [],
   "source": [
    "conn = psycopg2.connect(database=POSTGRESQL_DATABASE, user=POSTGRESQL_USER, password=POSTGRESQL_PASSWORD, host=POSTGRESQL_HOST_IP, port=POSTGRESQL_PORT)\n",
    "Dockerfiles_change_stats = pd.read_sql_query('''\n",
    "select public.dockerfile.dockerfile_id, public.dockerfile.commit_sha, public.dockerfile.path, public.changedfile.status, public.changedfile.additions_count, public.changedfile.deletions_count, public.changedfile.changes_count, public.dockerfile.author_committed_at, public.dockerfile.committer_committed_at\n",
    "from public.dockerfile, public.changedfile\n",
    "where public.changedfile.commit_sha=public.dockerfile.commit_sha and public.changedfile.filename=public.dockerfile.path\n",
    "''', con = conn)\n",
    "conn.close()"
   ]
  },
  {
   "cell_type": "code",
   "execution_count": 6,
   "metadata": {},
   "outputs": [],
   "source": [
    "conn = psycopg2.connect(database=POSTGRESQL_DATABASE, user=POSTGRESQL_USER, password=POSTGRESQL_PASSWORD, host=POSTGRESQL_HOST_IP, port=POSTGRESQL_PORT)\n",
    "Dockerfiles = pd.read_sql_query('''\n",
    "select dockerfile_id, image_name, path, commit_sha, repo_id, diff, author_committed_at, committer_committed_at\n",
    "from public.dockerfile\n",
    "''', con = conn)\n",
    "conn.close()"
   ]
  },
  {
   "cell_type": "code",
   "execution_count": 7,
   "metadata": {},
   "outputs": [],
   "source": [
    "Dockerfiles_change_stats = Dockerfiles_change_stats.drop_duplicates(subset=['commit_sha', 'path'])\n",
    "Commits = Commits.drop_duplicates(subset=['commit_sha'])\n",
    "changes_data = [Commits[Commits['commit_sha'].isin(Dockerfiles_change_stats['commit_sha'])].dropna()['stats_total'].values, Commits[~Commits['commit_sha'].isin(Dockerfiles_change_stats['commit_sha'])].dropna()['stats_total'].values]\n",
    "additions_data = [Commits[Commits['commit_sha'].isin(Dockerfiles_change_stats['commit_sha'])].dropna()['stats_additions'].values, Commits[~Commits['commit_sha'].isin(Dockerfiles_change_stats['commit_sha'])].dropna()['stats_additions'].values]\n",
    "deletions_data = [Commits[Commits['commit_sha'].isin(Dockerfiles_change_stats['commit_sha'])].dropna()['stats_deletions'].values, Commits[~Commits['commit_sha'].isin(Dockerfiles_change_stats['commit_sha'])].dropna()['stats_deletions'].values]"
   ]
  },
  {
   "cell_type": "code",
   "execution_count": 8,
   "metadata": {},
   "outputs": [
    {
     "data": {
      "image/png": "[encoded data removed]",
      "text/plain": [
       "<Figure size 432x288 with 3 Axes>"
      ]
     },
     "metadata": {
      "needs_background": "light"
     },
     "output_type": "display_data"
    },
    {
     "name": "stdout",
     "output_type": "stream",
     "text": [
      "Median of Number of Changes in Dockerfile Commits:  8.0\n",
      "Median of Number of Additions in Dockerfile Commits:  4.0\n",
      "Median of Number of Deletions in Dockerfile Commits:  1.0\n",
      "Median of Number of Changes in non-Dockerfile Commits:  14.0\n",
      "Median of Number of Additions in non-Dockerfile Commits:  8.0\n",
      "Median of Number of Deletions in non-Dockerfile Commits:  3.0\n"
     ]
    }
   ],
   "source": [
    "fig, (ax1, ax2, ax3) = plt.subplots(nrows=1, ncols=3, figsize=(6, 4))\n",
    "position_list = list(range(0, 3))\n",
    "bplot1 = ax1.boxplot(changes_data,\n",
    "                         notch=True,\n",
    "                         vert=True,\n",
    "                         patch_artist=True,\n",
    "                         showfliers=False,\n",
    "                         positions= [-0.3, 0.3],\n",
    "                         zorder=10,\n",
    "                        widths=0.4)\n",
    "bplot2 = ax2.boxplot(additions_data,\n",
    "                         notch=True,\n",
    "                         vert=True,\n",
    "                         patch_artist=True,\n",
    "                         showfliers=False,\n",
    "                         positions= [0.7, 1.3],\n",
    "                         zorder=10,\n",
    "                        widths=0.4)\n",
    "bplot3 = ax3.boxplot(deletions_data,\n",
    "                         notch=True,\n",
    "                         vert=True,\n",
    "                         patch_artist=True,\n",
    "                         showfliers=False,\n",
    "                         positions= [1.7, 2.3],\n",
    "                         zorder=10,\n",
    "                        widths=0.4)\n",
    "bplot1['boxes'][0].set_facecolor('lightpink')\n",
    "bplot1['boxes'][1].set_facecolor('lightblue')\n",
    "bplot2['boxes'][0].set_facecolor('lightpink')\n",
    "bplot2['boxes'][1].set_facecolor('lightblue')\n",
    "bplot3['boxes'][0].set_facecolor('lightpink')\n",
    "bplot3['boxes'][1].set_facecolor('lightblue')\n",
    "ax1.yaxis.grid(True)\n",
    "ax2.yaxis.grid(True)\n",
    "ax3.yaxis.grid(True)\n",
    "ax1.set_xticks([])\n",
    "ax2.set_xticks([])\n",
    "ax3.set_xticks([])\n",
    "ax1.tick_params(axis='y', direction ='in', pad=1)\n",
    "ax2.tick_params(axis='y', direction ='in', pad=1)\n",
    "ax3.tick_params(axis='y', direction ='in', pad=1)\n",
    "ax_legend = ax3.legend([bplot1[\"boxes\"][0], bplot1[\"boxes\"][1]], ['Dockerfile Commits', 'non-Dockerfile Commits'], loc='upper left', bbox_to_anchor=(-2.2,1.1),  prop={'size': 9}, ncol=2)\n",
    "ax1.set_xlabel('Changes')\n",
    "ax2.set_xlabel('Additions')\n",
    "ax3.set_xlabel('Deletions')\n",
    "ax1.set_ylabel('Count')\n",
    "plt.show()\n",
    "fig.savefig('Changes_Additions_Deletions', dpi=300)\n",
    "fig.savefig('Changes_Additions_Deletions.pdf')\n",
    "print('Median of Number of Changes in Dockerfile Commits: ', np.median(changes_data[0]))\n",
    "print('Median of Number of Additions in Dockerfile Commits: ', np.median(additions_data[0]))\n",
    "print('Median of Number of Deletions in Dockerfile Commits: ', np.median(deletions_data[0]))\n",
    "print('Median of Number of Changes in non-Dockerfile Commits: ', np.median(changes_data[1]))\n",
    "print('Median of Number of Additions in non-Dockerfile Commits: ', np.median(additions_data[1]))\n",
    "print('Median of Number of Deletions in non-Dockerfile Commits: ', np.median(deletions_data[1]))"
   ]
  },
  {
   "cell_type": "code",
   "execution_count": 9,
   "metadata": {},
   "outputs": [],
   "source": [
    "conn = psycopg2.connect(database=POSTGRESQL_DATABASE, user=POSTGRESQL_USER, password=POSTGRESQL_PASSWORD, host=POSTGRESQL_HOST_IP, port=POSTGRESQL_PORT)\n",
    "Commits = pd.read_sql_query('''\n",
    "select commit_id, commit_sha, repo_id, parents, repo_name, repo_location, stats_total, stats_additions, stats_deletions, changed_file_count, changed_files, author_committed_at, committer_committed_at\n",
    "from public.commit\n",
    "''', con = conn)\n",
    "conn.close()"
   ]
  },
  {
   "cell_type": "code",
   "execution_count": 10,
   "metadata": {},
   "outputs": [],
   "source": [
    "Dockerfiles = Dockerfiles[['dockerfile_id', 'image_name', 'repo_id', 'path', 'commit_sha', 'committer_committed_at']]\n",
    "image_and_path_with_gte2_commits = Dockerfiles.groupby(by=['image_name', 'path']).size()[Dockerfiles.groupby(by=['image_name', 'path']).size()>=2]\n",
    "image_and_path_with_gte2_commits = pd.DataFrame(image_and_path_with_gte2_commits, columns=['commit_count'])\n",
    "image_and_path_with_gte2_commits = image_and_path_with_gte2_commits.reset_index(inplace=False)\n",
    "Dockerfiles_with_gte2_commits = Dockerfiles[Dockerfiles['image_name'].isin(image_and_path_with_gte2_commits['image_name']) & Dockerfiles['path'].isin(image_and_path_with_gte2_commits['path'])]\n",
    "Dockerfiles_with_gte2_commits.index = range(0, Dockerfiles_with_gte2_commits.shape[0])\n",
    "Dockerfiles_with_gte2_commits = Dockerfiles_with_gte2_commits[['dockerfile_id', 'image_name', 'repo_id', 'path', 'commit_sha', 'committer_committed_at']]"
   ]
  },
  {
   "cell_type": "code",
   "execution_count": 11,
   "metadata": {},
   "outputs": [
    {
     "name": "stdout",
     "output_type": "stream",
     "text": [
      "INFO: Pandarallel will run on 32 workers.\n",
      "INFO: Pandarallel will use Memory file system to transfer data between the main process and workers.\n"
     ]
    }
   ],
   "source": [
    "pandarallel.initialize()\n",
    "Dockerfiles_with_gte2_commits = Dockerfiles_with_gte2_commits.groupby(['image_name', 'path']).parallel_apply(lambda x: x.sort_values(by='committer_committed_at', ascending=True))\n",
    "commits_to_query = Commits[['repo_id', 'commit_sha']].copy()\n",
    "commits_to_query['index'] = range(0, commits_to_query.shape[0])\n",
    "commits_to_query = commits_to_query.set_index(keys=['repo_id', 'commit_sha'])"
   ]
  },
  {
   "cell_type": "code",
   "execution_count": 12,
   "metadata": {},
   "outputs": [],
   "source": [
    "Dockerfiles_with_gte2_commits = Dockerfiles_with_gte2_commits.dropna()\n",
    "Dockerfiles_with_gte2_commits.index = range(0, Dockerfiles_with_gte2_commits.shape[0])\n",
    "Dockerfiles_with_gte2_commits['next_image_name'] = Dockerfiles_with_gte2_commits['image_name'].shift(-1)\n",
    "Dockerfiles_with_gte2_commits['next_repo_id'] = Dockerfiles_with_gte2_commits['repo_id'].shift(-1)\n",
    "Dockerfiles_with_gte2_commits['next_path'] = Dockerfiles_with_gte2_commits['path'].shift(-1)\n",
    "Dockerfiles_with_gte2_commits['next_commit_sha'] = Dockerfiles_with_gte2_commits['commit_sha'].shift(-1)\n",
    "Dockerfiles_with_gte2_commits['next_committer_committed_at'] = Dockerfiles_with_gte2_commits['committer_committed_at'].shift(-1)\n",
    "Dockerfiles_with_gte2_commits['commit_window'] = pd.Series([], dtype=int)"
   ]
  },
  {
   "cell_type": "code",
   "execution_count": 13,
   "metadata": {},
   "outputs": [
    {
     "name": "stdout",
     "output_type": "stream",
     "text": [
      "INFO: Pandarallel will run on 32 workers.\n",
      "INFO: Pandarallel will use Memory file system to transfer data between the main process and workers.\n"
     ]
    }
   ],
   "source": [
    "def get_commit(previous_commit_sha, later_commit_sha, repo_id):\n",
    "    try:\n",
    "        later_row = commits_to_query['index'][(repo_id, later_commit_sha)]\n",
    "        previous_row = commits_to_query['index'][(repo_id, previous_commit_sha)]\n",
    "        return later_row - previous_row\n",
    "    except:\n",
    "        return None\n",
    "def apply_get_commit(x):\n",
    "    if x['image_name'] == x['next_image_name'] and x['path'] == x['next_path'] and x['repo_id'] == x['next_repo_id']:\n",
    "        return get_commit(x['commit_sha'], x['next_commit_sha'], x['repo_id'])\n",
    "warnings.filterwarnings(\"ignore\")\n",
    "pandarallel.initialize(nb_workers=32)\n",
    "Dockerfiles_with_gte2_commits['commit_window'] = Dockerfiles_with_gte2_commits.parallel_apply(apply_get_commit, axis=1)"
   ]
  },
  {
   "cell_type": "code",
   "execution_count": 14,
   "metadata": {},
   "outputs": [],
   "source": [
    "Dockerfiles_with_gte2_commits = Dockerfiles_with_gte2_commits.dropna()\n",
    "Dockerfiles_with_gte2_commits['commit_year'] = Dockerfiles_with_gte2_commits['committer_committed_at'].apply(lambda x: x.year)\n",
    "Commits['commit_year'] = Commits['committer_committed_at'].apply(lambda x: x.year if x is not None else None)"
   ]
  },
  {
   "cell_type": "code",
   "execution_count": 15,
   "metadata": {},
   "outputs": [],
   "source": [
    "ratio_results = {}\n",
    "for year in range(2015, 2021):\n",
    "    dockerfile_commit_count = Dockerfiles_with_gte2_commits.query(\"commit_year=={}\".format(year)).groupby(by=['repo_id']).size()\n",
    "    source_repo_commit_count = Commits.query(\"commit_year=={}\".format(year)).groupby(by=['repo_id']).size()\n",
    "    commit_ratio_to_query = pd.DataFrame()\n",
    "    commit_ratio_to_query['repo_commit_count'] = source_repo_commit_count[dockerfile_commit_count.index[dockerfile_commit_count.index.isin(source_repo_commit_count.index) & dockerfile_commit_count.index.isin(Images[Images['pull_count']>=1000]['source_repo_id'])]]\n",
    "    commit_ratio_to_query['dockerfile_commit_count'] = dockerfile_commit_count[dockerfile_commit_count.index[dockerfile_commit_count.index.isin(source_repo_commit_count.index) & dockerfile_commit_count.index.isin(Images[Images['pull_count']>=1000]['source_repo_id'])]]\n",
    "    commit_ratio_to_query['ratio'] = commit_ratio_to_query.apply(lambda x: x['repo_commit_count']/x['dockerfile_commit_count'], axis=1)\n",
    "    ratio_results[year] = commit_ratio_to_query['ratio'].values"
   ]
  },
  {
   "cell_type": "code",
   "execution_count": 16,
   "metadata": {},
   "outputs": [
    {
     "data": {
      "image/png": "[encoded data removed]",
      "text/plain": [
       "<Figure size 432x288 with 1 Axes>"
      ]
     },
     "metadata": {
      "needs_background": "light"
     },
     "output_type": "display_data"
    },
    {
     "name": "stdout",
     "output_type": "stream",
     "text": [
      "Median of the Ratio between the Source Repo Commit Count and Dockerfile Commit Count in 2015: 2.5454545454545454\n",
      "Median of the Ratio between the Source Repo Commit Count and Dockerfile Commit Count in 2016: 2.6666666666666665\n",
      "Median of the Ratio between the Source Repo Commit Count and Dockerfile Commit Count in 2017: 2.5714285714285716\n",
      "Median of the Ratio between the Source Repo Commit Count and Dockerfile Commit Count in 2018: 3.0\n",
      "Median of the Ratio between the Source Repo Commit Count and Dockerfile Commit Count in 2019: 3.5\n",
      "Median of the Ratio between the Source Repo Commit Count and Dockerfile Commit Count in 2020: 4.0\n"
     ]
    }
   ],
   "source": [
    "ratio_in_year = [ratio_results[year] for year in list(range(2015, 2021))]\n",
    "labels = list(range(2015, 2021))\n",
    "fig, ax = plt.subplots(nrows=1, ncols=1, figsize=(6, 4))\n",
    "position_list = list(range(0, len(labels)))\n",
    "bplot = ax.boxplot(ratio_in_year,\n",
    "                         notch=True,\n",
    "                         vert=True,\n",
    "                         patch_artist=True,\n",
    "                         showfliers=False,\n",
    "                         positions=position_list,\n",
    "                         labels=labels, zorder=10)\n",
    "\n",
    "avg_cost_line = ax.plot(position_list,  [np.median(ratio_results[year]) for year in range(2015, 2021)], linewidth=1, color='palevioletred', marker='x', markeredgecolor='palevioletred', zorder=20, label='Median')\n",
    "\n",
    "for patch in bplot['boxes']:\n",
    "    patch.set_facecolor('lightblue')\n",
    "    \n",
    "ax.yaxis.grid(True)\n",
    "ax_legend1 = ax.legend(loc='center left', bbox_to_anchor=(0,0.85),  prop={'size': 9})\n",
    "ax_legend = ax.legend([bplot[\"boxes\"][0]], ['Ratio'], loc='upper left', bbox_to_anchor=(0,1),  prop={'size': 9})\n",
    "ax.add_artist(ax_legend1)\n",
    "ax.set_xlabel('Year')\n",
    "ax.set_ylabel('Ratio')\n",
    "plt.show()\n",
    "fig.tight_layout()\n",
    "fig.savefig('Commit_Ratio', dpi=300)\n",
    "fig.savefig('Commit_Ratio.pdf')\n",
    "for year in range(2015, 2021):\n",
    "    print('Median of the Ratio between the Source Repo Commit Count and Dockerfile Commit Count in {}: {}'.format(year, np.median(ratio_results[year])))"
   ]
  },
  {
   "cell_type": "code",
   "execution_count": null,
   "metadata": {},
   "outputs": [],
   "source": []
  }
 ],
 "metadata": {
  "kernelspec": {
   "display_name": "Python 3.8.2",
   "language": "python",
   "name": "python3.8"
  },
  "language_info": {
   "codemirror_mode": {
    "name": "ipython",
    "version": 3
   },
   "file_extension": ".py",
   "mimetype": "text/x-python",
   "name": "python",
   "nbconvert_exporter": "python",
   "pygments_lexer": "ipython3",
   "version": "3.8.2"
  }
 },
 "nbformat": 4,
 "nbformat_minor": 4
}
