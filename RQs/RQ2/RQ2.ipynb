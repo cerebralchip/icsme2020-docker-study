{
 "cells": [
  {
   "cell_type": "markdown",
   "metadata": {},
   "source": [
    "RQ2 - What are the current Docker image tagging practices?\n",
    "=============="
   ]
  },
  {
   "cell_type": "markdown",
   "metadata": {
    "toc-hr-collapsed": false
   },
   "source": [
    "# Dependencies and Configurations"
   ]
  },
  {
   "cell_type": "markdown",
   "metadata": {},
   "source": [
    "## Import Dependencies"
   ]
  },
  {
   "cell_type": "code",
   "execution_count": 1,
   "metadata": {},
   "outputs": [],
   "source": [
    "import numpy as np\n",
    "import pandas as pd\n",
    "from scipy import stats\n",
    "import itertools\n",
    "from datetime import datetime\n",
    "import time\n",
    "import matplotlib.pyplot as plt\n",
    "import matplotlib.dates as mdate\n",
    "import matplotlib.ticker as ticker\n",
    "import psycopg2\n",
    "import os, gc\n",
    "import re"
   ]
  },
  {
   "cell_type": "code",
   "execution_count": 2,
   "metadata": {},
   "outputs": [],
   "source": [
    "from pandarallel import pandarallel"
   ]
  },
  {
   "cell_type": "markdown",
   "metadata": {},
   "source": [
    "## Database Configurations"
   ]
  },
  {
   "cell_type": "code",
   "execution_count": 3,
   "metadata": {},
   "outputs": [],
   "source": [
    "POSTGRESQL_USER = os.getenv('POSTGRESQL_USER') if os.getenv('POSTGRESQL_USER') is not None else 'dockerstudy'\n",
    "POSTGRESQL_PASSWORD = os.getenv('POSTGRESQL_PASSWORD') if os.getenv('POSTGRESQL_PASSWORD') is not None else 'dockerstudy'\n",
    "POSTGRESQL_HOST_IP = os.getenv('POSTGRESQL_HOST_IP') if os.getenv('POSTGRESQL_HOST_IP') is not None else 'localhost'\n",
    "POSTGRESQL_PORT = os.getenv('POSTGRESQL_PORT') if os.getenv('POSTGRESQL_PORT') is not None else '5432'\n",
    "POSTGRESQL_DATABASE = os.getenv('POSTGRESQL_DATABASE') if os.getenv('POSTGRESQL_DATABASE') is not None else 'dockerstudy'"
   ]
  },
  {
   "cell_type": "markdown",
   "metadata": {},
   "source": [
    "## Load the relevant tables"
   ]
  },
  {
   "cell_type": "code",
   "execution_count": 4,
   "metadata": {},
   "outputs": [],
   "source": [
    "conn = psycopg2.connect(database=POSTGRESQL_DATABASE, user=POSTGRESQL_USER, password=POSTGRESQL_PASSWORD, host=POSTGRESQL_HOST_IP, port=POSTGRESQL_PORT)\n",
    "Tags = pd.read_sql_query('select * from public.tag', con = conn)\n",
    "Images = pd.read_sql_query('select * from public.image', con = conn)\n",
    "Repositories = pd.read_sql_query('select * from public.repository', con = conn)\n",
    "conn.close()"
   ]
  },
  {
   "cell_type": "code",
   "execution_count": 6,
   "metadata": {},
   "outputs": [
    {
     "name": "stdout",
     "output_type": "stream",
     "text": [
      "Number of tags:  30896696\n",
      "Number of Docker images with tags: 2988676\n"
     ]
    }
   ],
   "source": [
    "print('Number of tags: ', Tags.shape[0])\n",
    "print('Number of Docker images with tags:', len(Tags['image_name'].unique()))"
   ]
  },
  {
   "cell_type": "markdown",
   "metadata": {},
   "source": [
    "## Results"
   ]
  },
  {
   "cell_type": "code",
   "execution_count": 6,
   "metadata": {},
   "outputs": [
    {
     "name": "stdout",
     "output_type": "stream",
     "text": [
      "Proportion of Docker images that have only one default latest tag:  0.504849973700729\n"
     ]
    }
   ],
   "source": [
    "image_tags_count = Tags.groupby(by='image_name')['id'].count()\n",
    "images_with_one_tag = pd.Series(image_tags_count[image_tags_count==1].index)\n",
    "images_with_latest_tag = pd.Series(Tags[['image_name', 'tag_name']].query(\"tag_name=='{}'\".format('latest'))['image_name'].unique())\n",
    "print('Proportion of Docker images that have only one default latest tag: ', images_with_one_tag[images_with_one_tag.isin(images_with_latest_tag)].shape[0] / len(Tags['image_name'].unique()))"
   ]
  },
  {
   "cell_type": "code",
   "execution_count": 7,
   "metadata": {},
   "outputs": [
    {
     "name": "stdout",
     "output_type": "stream",
     "text": [
      "Number of Docker images that have self-defined tags: 1479833\n"
     ]
    }
   ],
   "source": [
    "name_of_images_with_selfdefined_tag = pd.Series(Tags[['image_name', 'tag_name']].query(\"tag_name!='{}'\".format('latest'))['image_name'].unique())\n",
    "print('Number of Docker images that have self-defined tags:', name_of_images_with_selfdefined_tag.shape[0])"
   ]
  },
  {
   "cell_type": "code",
   "execution_count": 8,
   "metadata": {},
   "outputs": [
    {
     "name": "stdout",
     "output_type": "stream",
     "text": [
      "Proportion of Docker images with self-defined tags that do not have a latest tag:  0.7049545455466935\n"
     ]
    }
   ],
   "source": [
    "images_with_selfdefined_tags = Tags[Tags['image_name'].isin(name_of_images_with_selfdefined_tag)].copy()[['image_name', 'tag_name']]\n",
    "name_of_images_with_selfdefined_tags_without_latest_tag = images_with_selfdefined_tags.groupby(by='image_name').apply(lambda x: True if 'latest' in x['tag_name'].values else False)\n",
    "print('Proportion of Docker images with self-defined tags that do not have a latest tag: ', name_of_images_with_selfdefined_tags_without_latest_tag[name_of_images_with_selfdefined_tags_without_latest_tag==False].shape[0] / name_of_images_with_selfdefined_tags_without_latest_tag.shape[0])"
   ]
  },
  {
   "cell_type": "code",
   "execution_count": 9,
   "metadata": {},
   "outputs": [
    {
     "name": "stdout",
     "output_type": "stream",
     "text": [
      "Number of Docker images that have multiple tags 757349\n"
     ]
    }
   ],
   "source": [
    "images_with_multiple_selfdefined_tags = Tags[Tags['image_name'].isin(name_of_images_with_selfdefined_tag[name_of_images_with_selfdefined_tag.isin(pd.Series(image_tags_count[image_tags_count>=2].index))])].copy()[['image_name', 'tag_name', 'last_updated']]\n",
    "print('Number of Docker images that have multiple tags', len(images_with_multiple_selfdefined_tags['image_name'].unique()))"
   ]
  },
  {
   "cell_type": "code",
   "execution_count": 74,
   "metadata": {},
   "outputs": [],
   "source": [
    "def get_latest_tag_lag_days(x):\n",
    "    x.index=range(0, len(x))\n",
    "    if 'latest' in x['tag_name'].values:\n",
    "        try:\n",
    "            return (x['last_updated'][0] - x['last_updated'][x[x['tag_name'] == 'latest'].index[0]]).days\n",
    "        except:\n",
    "            return None\n",
    "    else:\n",
    "        return None\n",
    "    \n",
    "def get_latest_tag_lag_versions(x):\n",
    "    x.index=range(0, len(x))\n",
    "    if 'latest' in x['tag_name'].values:\n",
    "        try:\n",
    "            return x[x['tag_name'] == 'latest'].index[0]\n",
    "        except:\n",
    "            return None\n",
    "    else:\n",
    "        return None"
   ]
  },
  {
   "cell_type": "code",
   "execution_count": 75,
   "metadata": {},
   "outputs": [
    {
     "name": "stdout",
     "output_type": "stream",
     "text": [
      "INFO: Pandarallel will run on 32 workers.\n",
      "INFO: Pandarallel will use Memory file system to transfer data between the main process and workers.\n",
      "INFO: Pandarallel will run on 32 workers.\n",
      "INFO: Pandarallel will use Memory file system to transfer data between the main process and workers.\n"
     ]
    }
   ],
   "source": [
    "sorted_images_with_multiple_selfdefined_tags = images_with_multiple_selfdefined_tags.copy()\n",
    "sorted_images_with_multiple_selfdefined_tags = sorted_images_with_multiple_selfdefined_tags.dropna()\n",
    "sorted_images_with_multiple_selfdefined_tags = sorted_images_with_multiple_selfdefined_tags.sort_values(by='last_updated', ascending=False)\n",
    "pandarallel.initialize()\n",
    "latest_tag_lag_days = sorted_images_with_multiple_selfdefined_tags.copy().groupby(by='image_name').parallel_apply(get_latest_tag_lag_days)\n",
    "pandarallel.initialize()\n",
    "latest_tag_lag_versions = sorted_images_with_multiple_selfdefined_tags.copy().groupby(by='image_name').parallel_apply(get_latest_tag_lag_versions)"
   ]
  },
  {
   "cell_type": "code",
   "execution_count": 114,
   "metadata": {},
   "outputs": [
    {
     "name": "stdout",
     "output_type": "stream",
     "text": [
      "Proportion of Docker images that have multiple self-defined tags, but the tag does not actually point to the lastest version of the image:  0.11387659783677483\n"
     ]
    }
   ],
   "source": [
    "print('Proportion of Docker images that have multiple self-defined tags, but the tag does not actually point to the lastest version of the image: ', latest_tag_lag_versions[latest_tag_lag_versions>1].shape[0]/latest_tag_lag_versions.shape[0])"
   ]
  },
  {
   "cell_type": "code",
   "execution_count": 56,
   "metadata": {},
   "outputs": [
    {
     "name": "stdout",
     "output_type": "stream",
     "text": [
      "Proportion of Docker images that there are at least 5 released versions beyond the version the latest tag points to:  0.039400837929118034\n"
     ]
    }
   ],
   "source": [
    "print('Proportion of Docker images that there are at least 5 released versions beyond the version the latest tag points to: ', latest_tag_lag_versions[latest_tag_lag_versions>=5].shape[0]/latest_tag_lag_versions.shape[0])"
   ]
  },
  {
   "cell_type": "code",
   "execution_count": 116,
   "metadata": {},
   "outputs": [
    {
     "name": "stdout",
     "output_type": "stream",
     "text": [
      "Proportion of Docker images that have a latest tag pointing to an image that was updated more than 3 months before the current most recent version of the image:  0.04411418921807533\n"
     ]
    }
   ],
   "source": [
    "print('Proportion of Docker images that have a latest tag pointing to an image that was updated more than 3 months before the current most recent version of the image: ', latest_tag_lag_days[latest_tag_lag_days>=90].shape[0]/latest_tag_lag_days.shape[0])"
   ]
  },
  {
   "cell_type": "code",
   "execution_count": 8,
   "metadata": {},
   "outputs": [
    {
     "name": "stdout",
     "output_type": "stream",
     "text": [
      "INFO: Pandarallel will run on 40 workers.\n",
      "INFO: Pandarallel will use Memory file system to transfer data between the main process and workers.\n"
     ]
    }
   ],
   "source": [
    "pandarallel.initialize()\n",
    "Repositories['branch_count']=Repositories['branches'].parallel_apply(lambda x: len(x) if type(x)==list else None)\n",
    "id_of_repo_with_releases_and_tags = Repositories[Repositories['tags'].notnull()]['repo_id'].append(Repositories[Repositories['releases'].notnull()]['repo_id']).append(Repositories[Repositories['branch_count']>1]['repo_id']).copy()\n",
    "id_of_repo_with_releases_and_tags.index = range(0, id_of_repo_with_releases_and_tags.shape[0])\n",
    "images_whose_repo_has_tags_or_releases = Images[Images['source_repo_id'].isin(id_of_repo_with_releases_and_tags)].copy()\n",
    "images_whose_repo_has_tags_or_releases = images_whose_repo_has_tags_or_releases[['image_name', 'created_at', 'updated_at', 'source_repo_id']]\n",
    "images_whose_repo_has_tags_or_releases.index = range(0, images_whose_repo_has_tags_or_releases.shape[0])"
   ]
  },
  {
   "cell_type": "code",
   "execution_count": 9,
   "metadata": {},
   "outputs": [],
   "source": [
    "targeted_Repositories = Repositories[Repositories['repo_id'].isin(id_of_repo_with_releases_and_tags)]\n",
    "targeted_Tags = Tags[Tags['image_name'].isin(images_whose_repo_has_tags_or_releases['image_name'])][['image_name', 'tag_name']]"
   ]
  },
  {
   "cell_type": "code",
   "execution_count": 12,
   "metadata": {},
   "outputs": [
    {
     "name": "stdout",
     "output_type": "stream",
     "text": [
      "INFO: Pandarallel will run on 40 workers.\n",
      "INFO: Pandarallel will use Memory file system to transfer data between the main process and workers.\n"
     ]
    }
   ],
   "source": [
    "pandarallel.initialize()\n",
    "images_whose_repo_has_tags_or_releases['repo_tags'] = images_whose_repo_has_tags_or_releases['source_repo_id'].parallel_apply(lambda x: targeted_Repositories.query('repo_id=={}'.format(x))['tags'].values[0])"
   ]
  },
  {
   "cell_type": "code",
   "execution_count": 13,
   "metadata": {},
   "outputs": [
    {
     "name": "stdout",
     "output_type": "stream",
     "text": [
      "INFO: Pandarallel will run on 40 workers.\n",
      "INFO: Pandarallel will use Memory file system to transfer data between the main process and workers.\n"
     ]
    }
   ],
   "source": [
    "pandarallel.initialize()\n",
    "images_whose_repo_has_tags_or_releases['repo_branches'] = images_whose_repo_has_tags_or_releases['source_repo_id'].parallel_apply(lambda x: targeted_Repositories.query('repo_id=={}'.format(x))['branches'].values[0])"
   ]
  },
  {
   "cell_type": "code",
   "execution_count": 14,
   "metadata": {},
   "outputs": [
    {
     "name": "stdout",
     "output_type": "stream",
     "text": [
      "INFO: Pandarallel will run on 40 workers.\n",
      "INFO: Pandarallel will use Memory file system to transfer data between the main process and workers.\n"
     ]
    }
   ],
   "source": [
    "pandarallel.initialize()\n",
    "images_whose_repo_has_tags_or_releases['image_tags'] = images_whose_repo_has_tags_or_releases['image_name'].parallel_apply(lambda x: list(targeted_Tags.query(\"image_name=='{}'\".format(x))['tag_name']))"
   ]
  },
  {
   "cell_type": "code",
   "execution_count": 52,
   "metadata": {},
   "outputs": [],
   "source": [
    "def check_tag_release_naming(x):\n",
    "    repo_tags = [item['name'] for item in x['repo_tags']] if x['repo_tags'] is not None else []\n",
    "    repo_branches = [item['name'] for item in x['repo_branches']] if x['repo_branches'] is not None else []\n",
    "    image_tags = x['image_tags'] if x['image_tags'] is not None else []\n",
    "    try:\n",
    "        if(list((set(repo_tags) & set(image_tags)) | (set(repo_branches) & set(image_tags)))) != []:\n",
    "            return True\n",
    "        else:\n",
    "            return False\n",
    "    except:\n",
    "        return None\n",
    "\n",
    "def check_sha_naming(x):\n",
    "    try:\n",
    "        if len(x)>=40 and x.isalnum():\n",
    "            return True\n",
    "        else:\n",
    "            return False\n",
    "    except:\n",
    "        return False"
   ]
  },
  {
   "cell_type": "code",
   "execution_count": 22,
   "metadata": {},
   "outputs": [
    {
     "name": "stdout",
     "output_type": "stream",
     "text": [
      "INFO: Pandarallel will run on 40 workers.\n",
      "INFO: Pandarallel will use Memory file system to transfer data between the main process and workers.\n"
     ]
    }
   ],
   "source": [
    "pandarallel.initialize()\n",
    "images_whose_repo_has_tags_or_releases['tag_release_naming'] = images_whose_repo_has_tags_or_releases.parallel_apply(check_tag_release_naming, axis=1)\n",
    "images_whose_repo_has_tags_or_releases['create_year'] = images_whose_repo_has_tags_or_releases['created_at'].parallel_apply(lambda x:x.year if x is not None else None)\n",
    "images_whose_repo_has_tags_or_releases['update_year'] = images_whose_repo_has_tags_or_releases['updated_at'].parallel_apply(lambda x:x.year if x is not None else None)\n",
    "Images['create_year'] = Images['created_at'].parallel_apply(lambda x:x.year if x is not None else None)\n",
    "Images['update_year'] = Images['updated_at'].parallel_apply(lambda x:x.year if x is not None else None)"
   ]
  },
  {
   "cell_type": "code",
   "execution_count": 73,
   "metadata": {},
   "outputs": [
    {
     "name": "stdout",
     "output_type": "stream",
     "text": [
      "Number of Docker images that follow the release pipeline versioning practices: 65509\n"
     ]
    }
   ],
   "source": [
    "print('Number of Docker images that follow the release tagging practices:', images_whose_repo_has_tags_or_releases[images_whose_repo_has_tags_or_releases['tag_release_naming']==True].shape[0])"
   ]
  },
  {
   "cell_type": "code",
   "execution_count": 54,
   "metadata": {},
   "outputs": [
    {
     "name": "stdout",
     "output_type": "stream",
     "text": [
      "INFO: Pandarallel will run on 40 workers.\n",
      "INFO: Pandarallel will use Memory file system to transfer data between the main process and workers.\n"
     ]
    }
   ],
   "source": [
    "pandarallel.initialize()\n",
    "SHA_naming = Tags['tag_name'].parallel_apply(check_sha_naming)"
   ]
  },
  {
   "cell_type": "code",
   "execution_count": 74,
   "metadata": {},
   "outputs": [
    {
     "name": "stdout",
     "output_type": "stream",
     "text": [
      "Number of Docker images that follow the commit/digest SHA pinning practices: 35136\n"
     ]
    }
   ],
   "source": [
    "print('Number of Docker images that follow the commit/digest SHA pinning practices:', len(Tags[SHA_naming]['image_name'].unique()))"
   ]
  },
  {
   "cell_type": "code",
   "execution_count": null,
   "metadata": {},
   "outputs": [],
   "source": []
  }
 ],
 "metadata": {
  "kernelspec": {
   "display_name": "Python 3.8.2",
   "language": "python",
   "name": "python3.8"
  },
  "language_info": {
   "codemirror_mode": {
    "name": "ipython",
    "version": 3
   },
   "file_extension": ".py",
   "mimetype": "text/x-python",
   "name": "python",
   "nbconvert_exporter": "python",
   "pygments_lexer": "ipython3",
   "version": "3.8.2"
  }
 },
 "nbformat": 4,
 "nbformat_minor": 4
}
