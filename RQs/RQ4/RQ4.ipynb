{
 "cells": [
  {
   "cell_type": "markdown",
   "metadata": {},
   "source": [
    "RQ4 - How prevalent are code smells in Dockerfiles?\n",
    "=============="
   ]
  },
  {
   "cell_type": "markdown",
   "metadata": {
    "toc-hr-collapsed": false
   },
   "source": [
    "# Dependencies and Configurations"
   ]
  },
  {
   "cell_type": "markdown",
   "metadata": {},
   "source": [
    "## Import Dependencies"
   ]
  },
  {
   "cell_type": "code",
   "execution_count": 1,
   "metadata": {},
   "outputs": [],
   "source": [
    "import numpy as np\n",
    "import pandas as pd\n",
    "from scipy import stats\n",
    "import itertools\n",
    "from datetime import datetime\n",
    "import time\n",
    "import matplotlib.pyplot as plt\n",
    "import matplotlib.dates as mdate\n",
    "import matplotlib.ticker as ticker\n",
    "import psycopg2\n",
    "import os\n",
    "import re\n",
    "import subprocess\n",
    "import json\n",
    "from pandarallel import pandarallel"
   ]
  },
  {
   "cell_type": "markdown",
   "metadata": {},
   "source": [
    "### Dependency: Haskell Dockerfile Linter (Hadolint)\n",
    "* Haskell Dockerfile Linter (Hadolint) is required to reproduce this RQ.\n",
    "* Haskell Dockerfile Linter (Hadolint) Installation Instructions: https://github.com/hadolint/hadolint"
   ]
  },
  {
   "cell_type": "markdown",
   "metadata": {},
   "source": [
    "## Database Configurations"
   ]
  },
  {
   "cell_type": "code",
   "execution_count": 2,
   "metadata": {},
   "outputs": [],
   "source": [
    "POSTGRESQL_USER = os.getenv('POSTGRESQL_USER') if os.getenv('POSTGRESQL_USER') is not None else 'dockerstudy'\n",
    "POSTGRESQL_PASSWORD = os.getenv('POSTGRESQL_PASSWORD') if os.getenv('POSTGRESQL_PASSWORD') is not None else 'dockerstudy'\n",
    "POSTGRESQL_HOST_IP = os.getenv('POSTGRESQL_HOST_IP') if os.getenv('POSTGRESQL_HOST_IP') is not None else 'localhost'\n",
    "POSTGRESQL_PORT = os.getenv('POSTGRESQL_PORT') if os.getenv('POSTGRESQL_PORT') is not None else '5432'\n",
    "POSTGRESQL_DATABASE = os.getenv('POSTGRESQL_DATABASE') if os.getenv('POSTGRESQL_DATABASE') is not None else 'dockerstudy'"
   ]
  },
  {
   "cell_type": "markdown",
   "metadata": {},
   "source": [
    "## Load the relevant tables"
   ]
  },
  {
   "cell_type": "code",
   "execution_count": 3,
   "metadata": {},
   "outputs": [],
   "source": [
    "conn = psycopg2.connect(database=POSTGRESQL_DATABASE, user=POSTGRESQL_USER, password=POSTGRESQL_PASSWORD, host=POSTGRESQL_HOST_IP, port=POSTGRESQL_PORT)\n",
    "Dockerfiles = pd.read_sql_query('select * from public.dockerfile order by dockerfile_id asc', con = conn)\n",
    "Images = pd.read_sql_query('select * from public.image', con = conn)\n",
    "conn.close()"
   ]
  },
  {
   "cell_type": "markdown",
   "metadata": {},
   "source": [
    "# Smells in Dockerfiles"
   ]
  },
  {
   "cell_type": "code",
   "execution_count": 5,
   "metadata": {},
   "outputs": [],
   "source": [
    "# Function for using hadolint AST to analyze Dockerfile\n",
    "def hadolint(x):\n",
    "    file_id = str(x['dockerfile_id'])\n",
    "    file_name = 'Dockerfile_' + file_id\n",
    "    with open(file_name, 'w') as file:\n",
    "        file.write(x['content'])\n",
    "    proc_hadolint = subprocess.Popen(['hadolint', '-f', 'json', file_name],\n",
    "                                   stdout=subprocess.PIPE, stderr=subprocess.STDOUT)\n",
    "    hadolint_result = proc_hadolint.communicate()[0].decode('utf-8')\n",
    "    os.remove(file_name)\n",
    "    try:\n",
    "        results = json.loads(hadolint_result)\n",
    "    except:\n",
    "        results = []\n",
    "    return results"
   ]
  },
  {
   "cell_type": "code",
   "execution_count": 6,
   "metadata": {},
   "outputs": [],
   "source": [
    "pandarallel.initialize()\n",
    "Dockerfiles['smells'] = Dockerfiles.parallel_apply(hadolint, axis=1)\n",
    "Dockerfiles_ast_results = Dockerfiles.copy()"
   ]
  },
  {
   "cell_type": "code",
   "execution_count": 8,
   "metadata": {},
   "outputs": [
    {
     "name": "stdout",
     "output_type": "stream",
     "text": [
      "INFO: Pandarallel will run on 32 workers.\n",
      "INFO: Pandarallel will use Memory file system to transfer data between the main process and workers.\n"
     ]
    }
   ],
   "source": [
    "pandarallel.initialize()\n",
    "Dockerfiles_ast_results['smell_count'] = Dockerfiles_ast_results['smells'].parallel_apply(lambda x: len(x))\n",
    "Dockerfiles_ast_results['update_year'] = Dockerfiles_ast_results['committer_committed_at'].parallel_apply(lambda x: x.year if x is not None else None)"
   ]
  },
  {
   "cell_type": "code",
   "execution_count": 9,
   "metadata": {},
   "outputs": [],
   "source": [
    "Dockerfiles_ast_results = Dockerfiles_ast_results[Dockerfiles_ast_results['content']!='404: Not Found']\n",
    "Dockerfiles_ast_results = Dockerfiles_ast_results.sort_values(by='committer_committed_at', ascending=False)\n",
    "Dockerfiles_ast_results_trending_analysis = Dockerfiles_ast_results.groupby(by=['dockerfile_id','update_year'], as_index=False).mean()\n",
    "Dockerfiles_ast_results_trending_analysis = Dockerfiles_ast_results_trending_analysis.dropna()"
   ]
  },
  {
   "cell_type": "code",
   "execution_count": 10,
   "metadata": {},
   "outputs": [
    {
     "name": "stdout",
     "output_type": "stream",
     "text": [
      "Average smell count:  5.133314785546983\n",
      "Meidan smell count:  4.0\n",
      "25th quantile of smell count:  2.0\n",
      "75th quantile of smell count:  6.0\n",
      "The proportion of smell-free Dockerfiles:  0.07775654062151398\n"
     ]
    }
   ],
   "source": [
    "print('Average smell count: ', np.mean(Dockerfiles_ast_results_trending_analysis['smell_count']))\n",
    "print('Meidan smell count: ', np.median(Dockerfiles_ast_results_trending_analysis['smell_count']))\n",
    "print('25th quantile of smell count: ', np.quantile(Dockerfiles_ast_results_trending_analysis['smell_count'], q=0.25))\n",
    "print('75th quantile of smell count: ', np.quantile(Dockerfiles_ast_results_trending_analysis['smell_count'], q=0.75))\n",
    "print('The proportion of smell-free Dockerfiles: ', Dockerfiles_ast_results_trending_analysis[Dockerfiles_ast_results_trending_analysis['smell_count']==0].shape[0]/Dockerfiles_ast_results_trending_analysis.shape[0])"
   ]
  },
  {
   "cell_type": "code",
   "execution_count": 12,
   "metadata": {},
   "outputs": [
    {
     "data": {
      "image/png": "[encoded data removed]",
      "text/plain": [
       "<Figure size 432x216 with 1 Axes>"
      ]
     },
     "metadata": {
      "needs_background": "light"
     },
     "output_type": "display_data"
    },
    {
     "name": "stdout",
     "output_type": "stream",
     "text": [
      "Average Number of Smells in Dockerfiles in 2015: 6.0489498233977725\n",
      "Average Number of Smells in Dockerfiles in 2016: 5.550146148399629\n",
      "Average Number of Smells in Dockerfiles in 2017: 5.146727813449755\n",
      "Average Number of Smells in Dockerfiles in 2018: 4.923251332887598\n",
      "Average Number of Smells in Dockerfiles in 2019: 4.755289685253916\n",
      "Average Number of Smells in Dockerfiles in 2020: 4.4460546353155905\n"
     ]
    }
   ],
   "source": [
    "smell_count_in_year = [Dockerfiles_ast_results_trending_analysis[Dockerfiles_ast_results_trending_analysis['update_year']==year]['smell_count'].values for year in list(range(2015, 2021))]\n",
    "labels = list(range(2015, 2021))\n",
    "fig, ax = plt.subplots(nrows=1, ncols=1, figsize=(6, 3))\n",
    "position_list = list(range(0, len(labels)))\n",
    "bplot = ax.boxplot(smell_count_in_year,\n",
    "                         notch=True,\n",
    "                         vert=True,\n",
    "                         patch_artist=True,\n",
    "                         showfliers=False,\n",
    "                         positions=position_list,\n",
    "                         labels=labels, zorder=10)\n",
    "\n",
    "avg_count_line = ax.plot(position_list,  [np.mean(Dockerfiles_ast_results_trending_analysis[Dockerfiles_ast_results_trending_analysis['update_year']==year]['smell_count'].values) for year in range(2015, 2021)], linewidth=1, color='palevioletred', marker='x', markeredgecolor='palevioletred', zorder=20, label='Average')\n",
    "\n",
    "for patch in bplot['boxes']:\n",
    "    patch.set_facecolor('lightblue')\n",
    "    \n",
    "ax.yaxis.grid(True)\n",
    "ax_legend1 = ax.legend(loc='upper left', bbox_to_anchor=(0.77,0.92),  prop={'size': 9})\n",
    "ax_legend = ax.legend([bplot[\"boxes\"][0]], ['Smell Count'], loc='upper left', bbox_to_anchor=(0.72,1.0),  prop={'size': 9})\n",
    "ax.add_artist(ax_legend1)\n",
    "ax.set_xlabel('Year')\n",
    "ax.set_ylabel('Number of Smells in Dockerfiles')\n",
    "plt.show()\n",
    "fig.tight_layout()\n",
    "fig.savefig('Smell_Count', dpi=300)\n",
    "fig.savefig('Smell_Count.pdf')\n",
    "for year in range(2015, 2021):\n",
    "    print('Average Number of Smells in Dockerfiles in {}: {}'.format(year, np.mean(Dockerfiles_ast_results_trending_analysis[Dockerfiles_ast_results_trending_analysis['update_year']==year]['smell_count'].values)))"
   ]
  },
  {
   "cell_type": "code",
   "execution_count": 13,
   "metadata": {},
   "outputs": [],
   "source": [
    "pull_count_gte1000_image_name = Images[Images['pull_count']>=1000]['image_name']\n",
    "Dockerfiles_ast_results = Dockerfiles_ast_results[Dockerfiles_ast_results['image_name'].isin(pull_count_gte1000_image_name)].copy()"
   ]
  },
  {
   "cell_type": "code",
   "execution_count": 14,
   "metadata": {},
   "outputs": [
    {
     "name": "stdout",
     "output_type": "stream",
     "text": [
      "INFO: Pandarallel will run on 32 workers.\n",
      "INFO: Pandarallel will use Memory file system to transfer data between the main process and workers.\n"
     ]
    }
   ],
   "source": [
    "Dockerfiles_ast_results = Dockerfiles_ast_results.sort_values(by='committer_committed_at', ascending=False)\n",
    "Dockerfiles_prevalent_smells = Dockerfiles_ast_results.drop_duplicates(subset=['path', 'repo_id', 'update_year'], keep='first').copy()\n",
    "pandarallel.initialize()\n",
    "Dockerfiles_prevalent_smells['smell_code'] = Dockerfiles_prevalent_smells['smells'].parallel_apply(lambda x: [item['code'] for item in x] if x is not None else [])\n",
    "Dockerfiles_prevalent_smells = Dockerfiles_prevalent_smells.dropna(subset=['smell_code', 'update_year'])\n",
    "Dockerfiles_prevalent_smells.index = range(0, Dockerfiles_prevalent_smells.shape[0])\n",
    "Dockerfiles_prevalent_smells = Dockerfiles_prevalent_smells.explode('smell_code')[['update_year', 'smell_code']]\n",
    "Dockerfiles_prevalent_smells.index = range(0, Dockerfiles_prevalent_smells.shape[0])"
   ]
  },
  {
   "cell_type": "code",
   "execution_count": 15,
   "metadata": {},
   "outputs": [
    {
     "name": "stdout",
     "output_type": "stream",
     "text": [
      "Top 15 Most Prevalent Smells in Dockerfiles\n"
     ]
    },
    {
     "data": {
      "text/plain": [
       "DL3008    13.359891\n",
       "DL3015     9.514359\n",
       "DL3020     9.043765\n",
       "DL4006     8.308808\n",
       "DL4000     7.652575\n",
       "DL3003     6.966404\n",
       "DL3018     6.574692\n",
       "DL3009     5.640790\n",
       "DL3006     3.303977\n",
       "DL3013     2.850490\n",
       "SC2086     2.438503\n",
       "DL3025     2.325883\n",
       "DL3019     2.214690\n",
       "DL3007     1.898215\n",
       "SC2046     1.574454\n",
       "Name: smell_code, dtype: float64"
      ]
     },
     "execution_count": 15,
     "metadata": {},
     "output_type": "execute_result"
    }
   ],
   "source": [
    "print('Top 15 Most Prevalent Smells in Dockerfiles') # In terms of overall proportion\n",
    "Dockerfiles_prevalent_smells['smell_code'].value_counts()[:15]/Dockerfiles_prevalent_smells['smell_code'].shape[0]*100"
   ]
  },
  {
   "cell_type": "code",
   "execution_count": 16,
   "metadata": {},
   "outputs": [],
   "source": [
    "# Over time\n",
    "year_list=range(2015,2021)\n",
    "all_smell_trend=pd.DataFrame(columns=['Year','Smell','Proportion'])\n",
    "for year in year_list:\n",
    "    current_year_smell=Dockerfiles_prevalent_smells.query(\"update_year=={}\".format(year)).dropna()['smell_code']\n",
    "    smell_proportion=current_year_smell.value_counts()/len(current_year_smell)*100.0\n",
    "    for i in range(smell_proportion.size):\n",
    "        all_smell_trend=all_smell_trend.append(pd.DataFrame([[year,smell_proportion.index[i],smell_proportion[i]]],columns=['Year','Smell','Proportion']),ignore_index=True)\n",
    "\n",
    "\n",
    "smell_trend=pd.DataFrame(columns=['Year','Smell','Proportion'])\n",
    "for year in year_list:\n",
    "    current_year_smell=Dockerfiles_prevalent_smells.query(\"update_year=={}\".format(year)).dropna()['smell_code']\n",
    "    smell_proportion=current_year_smell.value_counts()/len(current_year_smell)*100.0\n",
    "    for i in range(10):\n",
    "        try:\n",
    "            smell_trend=smell_trend.append(pd.DataFrame([[year,smell_proportion.index[i],smell_proportion[i]]],columns=['Year','Smell','Proportion']),ignore_index=True)\n",
    "        except:\n",
    "            continue\n",
    "smlt=smell_trend['Smell'].drop_duplicates()\n",
    "smlt.index=range(0,smlt.size)\n",
    "for year in year_list:\n",
    "    for i in range(0,smlt.size):\n",
    "        dt=smell_trend.query(\"Year=={} and Smell=='{}'\".format(year,smlt[i]))\n",
    "        if(dt.shape[0]==0):\n",
    "            try:\n",
    "                prop=all_smell_trend.query(\"Year=={} and Smell=='{}'\".format(year,smlt[i]))['Proportion']\n",
    "                prop=prop[prop.index[0]]\n",
    "            except:\n",
    "                prop=0\n",
    "            smell_trend=smell_trend.append(pd.DataFrame([[year,smlt[i],prop]],columns=['Year','Smell','Proportion']),ignore_index=True)"
   ]
  },
  {
   "cell_type": "code",
   "execution_count": 30,
   "metadata": {},
   "outputs": [
    {
     "data": {
      "image/png": "[encoded data removed]",
      "text/plain": [
       "<Figure size 360x316.8 with 1 Axes>"
      ]
     },
     "metadata": {
      "needs_background": "light"
     },
     "output_type": "display_data"
    }
   ],
   "source": [
    "colors_list = ['#e6194B', '#3cb44b', '#ffe119', '#4363d8', '#f58231', '#911eb4', '#42d4f4', '#f032e6', '#bfef45', '#fabebe', '#469990', '#e6beff', '#9A6324', '#800000', '#aaffc3', '#808000', '#ffd8b1', '#000075', '#a9a9a9']\n",
    "linestyles = ['-', '--', '-.', ':']\n",
    "from cycler import cycler\n",
    "plt.rc('axes', prop_cycle=(cycler(color=['#1f77b4', '#ff7f0e', '#2ca02c', '#d62728',\n",
    "                                         '#9467bd', '#8c564b', '#e377c2', '#7f7f7f',\n",
    "                                         '#bcbd22', '#17becf']) +\n",
    "                           cycler(linestyle=['-', '--', ':', '-.','-', '--', ':', '-.','-', '--'])))\n",
    "fig=plt.figure(figsize=(5,4.4))\n",
    "ax=plt.subplot(111)\n",
    "ax.grid()\n",
    "ax.set_ylim(1,16)\n",
    "for i in range(0,10):\n",
    "    ax.plot(year_list, smell_trend[smell_trend['Smell']==smlt[i]].sort_values(by=['Year'])['Proportion'], label=smlt[i], color=colors_list[i]) \n",
    "ax.legend(loc='upper right', bbox_to_anchor=(1.03, 1.15),  prop={'size': 8} ,ncol=5)\n",
    "ax.set_xlabel('Year')\n",
    "ax.set_ylabel('Proportion in Percentage')\n",
    "ax.yaxis.set_major_formatter(ticker.PercentFormatter())\n",
    "plt.tight_layout()\n",
    "fig.savefig('popular-smells-over-time', dpi=300)\n",
    "fig.savefig('popular-smells-over-time.pdf')"
   ]
  },
  {
   "cell_type": "code",
   "execution_count": null,
   "metadata": {},
   "outputs": [],
   "source": []
  }
 ],
 "metadata": {
  "kernelspec": {
   "display_name": "Python 3.8.2",
   "language": "python",
   "name": "python3.8"
  },
  "language_info": {
   "codemirror_mode": {
    "name": "ipython",
    "version": 3
   },
   "file_extension": ".py",
   "mimetype": "text/x-python",
   "name": "python",
   "nbconvert_exporter": "python",
   "pygments_lexer": "ipython3",
   "version": "3.8.2"
  }
 },
 "nbformat": 4,
 "nbformat_minor": 4
}
