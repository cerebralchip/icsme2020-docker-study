{
 "cells": [
  {
   "cell_type": "markdown",
   "metadata": {
    "toc-hr-collapsed": false
   },
   "source": [
    "About Data Set\n",
    "=============="
   ]
  },
  {
   "cell_type": "markdown",
   "metadata": {
    "toc-hr-collapsed": false
   },
   "source": [
    "# Dependencies and Configurations"
   ]
  },
  {
   "cell_type": "markdown",
   "metadata": {},
   "source": [
    "## Import Dependencies"
   ]
  },
  {
   "cell_type": "code",
   "execution_count": 1,
   "metadata": {},
   "outputs": [],
   "source": [
    "import numpy as np\n",
    "import pandas as pd\n",
    "from datetime import datetime\n",
    "import time\n",
    "import matplotlib.pyplot as plt\n",
    "import matplotlib.dates as mdate\n",
    "import matplotlib.ticker as ticker\n",
    "import psycopg2\n",
    "import os"
   ]
  },
  {
   "cell_type": "markdown",
   "metadata": {},
   "source": [
    "## Database Configurations"
   ]
  },
  {
   "cell_type": "code",
   "execution_count": 2,
   "metadata": {},
   "outputs": [],
   "source": [
    "POSTGRESQL_USER = os.getenv('POSTGRESQL_USER') if os.getenv('POSTGRESQL_USER') is not None else 'dockerstudy'\n",
    "POSTGRESQL_PASSWORD = os.getenv('POSTGRESQL_PASSWORD') if os.getenv('POSTGRESQL_PASSWORD') is not None else 'dockerstudy'\n",
    "POSTGRESQL_HOST_IP = os.getenv('POSTGRESQL_HOST_IP') if os.getenv('POSTGRESQL_HOST_IP') is not None else 'localhost'\n",
    "POSTGRESQL_PORT = os.getenv('POSTGRESQL_PORT') if os.getenv('POSTGRESQL_PORT') is not None else '5432'\n",
    "POSTGRESQL_DATABASE = os.getenv('POSTGRESQL_DATABASE') if os.getenv('POSTGRESQL_DATABASE') is not None else 'dockerstudy'"
   ]
  },
  {
   "cell_type": "code",
   "execution_count": 3,
   "metadata": {},
   "outputs": [],
   "source": [
    "conn = psycopg2.connect(database=POSTGRESQL_DATABASE, user=POSTGRESQL_USER, password=POSTGRESQL_PASSWORD, host=POSTGRESQL_HOST_IP, port=POSTGRESQL_PORT)\n",
    "Images = pd.read_sql_query('select * from public.image', con = conn)\n",
    "Tags = pd.read_sql_query('select * from public.tag', con = conn)\n",
    "Builds = pd.read_sql_query('select * from public.build', con = conn)\n",
    "Repositories = pd.read_sql_query('select * from public.repository', con = conn)\n",
    "Commits = pd.read_sql_query('select * from public.commit', con = conn)\n",
    "ChangedFiles = pd.read_sql_query('select * from public.changedfile', con = conn)\n",
    "DockerhubUsers = pd.read_sql_query('select * from public.dockerhubuser', con = conn)\n",
    "BitbucketUsers = pd.read_sql_query('select * from public.bitbucketuser', con = conn)\n",
    "GitHubUsers = pd.read_sql_query('select * from public.githubuser', con = conn)\n",
    "conn.close()"
   ]
  },
  {
   "cell_type": "markdown",
   "metadata": {},
   "source": [
    "## Facts about Docker Images"
   ]
  },
  {
   "cell_type": "code",
   "execution_count": 4,
   "metadata": {},
   "outputs": [
    {
     "name": "stdout",
     "output_type": "stream",
     "text": [
      "Number of Docker Images:  3364529\n"
     ]
    }
   ],
   "source": [
    "print('Number of Docker Images: ', Images.shape[0])"
   ]
  },
  {
   "cell_type": "code",
   "execution_count": 5,
   "metadata": {},
   "outputs": [
    {
     "name": "stdout",
     "output_type": "stream",
     "text": [
      "Number of Docker Images with Linked Source Repositories:  440057\n"
     ]
    }
   ],
   "source": [
    "print('Number of Docker Images with Linked Source Repositories: ', Images.query(\"source_repo_source=='CI' or source_repo_source=='NameMatch'\").shape[0])"
   ]
  },
  {
   "cell_type": "code",
   "execution_count": 6,
   "metadata": {},
   "outputs": [
    {
     "name": "stdout",
     "output_type": "stream",
     "text": [
      "Number of Docker Images using the CI Automated Builds:  375518\n",
      "In which, \n",
      "Number of Docker Images linking to a GitHub repository:  357030\n",
      "Number of Docker Images linking to a Bitbucket repository:  18488\n"
     ]
    }
   ],
   "source": [
    "print('Number of Docker Images using the CI Automated Builds: ', Images.query(\"source_repo_source=='CI'\").shape[0])\n",
    "print('In which, ')\n",
    "print('Number of Docker Images linking to a GitHub repository: ', Images.query(\"source_repo_source=='CI' and source_repo_location=='GitHub'\").shape[0])\n",
    "print('Number of Docker Images linking to a Bitbucket repository: ', Images.query(\"source_repo_source=='CI' and source_repo_location=='Bitbucket'\").shape[0])"
   ]
  },
  {
   "cell_type": "code",
   "execution_count": 7,
   "metadata": {},
   "outputs": [
    {
     "name": "stdout",
     "output_type": "stream",
     "text": [
      "Number of Docker Images that has a repository identified by the name matching method 64539\n",
      "In which, \n",
      "Number of Docker Images matching to a GitHub repository:  63653\n",
      "Number of Docker Images matching to a Bitbucket repository:  886\n"
     ]
    }
   ],
   "source": [
    "print('Number of Docker Images that has a repository identified by the name matching method', Images.query(\"source_repo_source=='NameMatch'\").shape[0])\n",
    "print('In which, ')\n",
    "print('Number of Docker Images matching to a GitHub repository: ', Images.query(\"source_repo_source=='NameMatch' and source_repo_location=='GitHub'\").shape[0])\n",
    "print('Number of Docker Images matching to a Bitbucket repository: ', Images.query(\"source_repo_source=='NameMatch' and source_repo_location=='Bitbucket'\").shape[0])"
   ]
  },
  {
   "cell_type": "code",
   "execution_count": 8,
   "metadata": {},
   "outputs": [
    {
     "name": "stdout",
     "output_type": "stream",
     "text": [
      "Number of Linked Repositories: 378615\n"
     ]
    }
   ],
   "source": [
    "conn = psycopg2.connect(database=POSTGRESQL_DATABASE, user=POSTGRESQL_USER, password=POSTGRESQL_PASSWORD, host=POSTGRESQL_HOST_IP, port=POSTGRESQL_PORT)\n",
    "repo_count = pd.read_sql_query('select count(repo_id) from public.repository', con = conn)\n",
    "print('Number of Linked Repositories: {}'.format(repo_count['count'][0]))\n",
    "conn.close()"
   ]
  },
  {
   "cell_type": "markdown",
   "metadata": {},
   "source": [
    "### Pull count"
   ]
  },
  {
   "cell_type": "code",
   "execution_count": 9,
   "metadata": {},
   "outputs": [
    {
     "data": {
      "image/png": "[encoded data removed]",
      "text/plain": [
       "<Figure size 432x288 with 1 Axes>"
      ]
     },
     "metadata": {
      "needs_background": "light"
     },
     "output_type": "display_data"
    },
    {
     "name": "stdout",
     "output_type": "stream",
     "text": [
      "Median of pull count of Docker Images using CI automated builds 98.0\n",
      "Median of pull count of Docker Images not using CI automated builds 18.0\n"
     ]
    }
   ],
   "source": [
    "labels = ['Using CI', 'Not using CI']\n",
    "fig, ax = plt.subplots(nrows=1, ncols=1, figsize=(6, 4))\n",
    "position_list = list(range(0, len(labels)))\n",
    "bplot = ax.boxplot([Images.query(\"source_repo_source=='CI'\")['pull_count'].dropna().values, Images.query(\"source_repo_source!='CI'\")['pull_count'].dropna().values],\n",
    "                         notch=True,\n",
    "                         vert=True,\n",
    "                         patch_artist=True,\n",
    "                         showfliers=False,\n",
    "                         positions=position_list,\n",
    "                         labels=labels, zorder=10)\n",
    "for patch in bplot['boxes']:\n",
    "    patch.set_facecolor('lightblue')\n",
    "    \n",
    "ax.yaxis.grid(True)\n",
    "#ax_legend1 = ax.legend(loc='center left', bbox_to_anchor=(0,0.8),  prop={'size': 9})\n",
    "ax_legend = ax.legend([bplot[\"boxes\"][0]], ['Pull Count'], loc='upper right', bbox_to_anchor=(1,1),  prop={'size': 9})\n",
    "#ax.add_artist(ax_legend1)\n",
    "ax.set_xlabel('Docker Images')\n",
    "ax.set_ylabel('Pull Count')\n",
    "plt.show()\n",
    "fig.tight_layout()\n",
    "fig.savefig('Image_Pull_Count', dpi=300)\n",
    "fig.savefig('Image_Pull_Count.pdf')\n",
    "print('Median of pull count of Docker Images using CI automated builds', np.median(Images.query(\"source_repo_source=='CI'\")['pull_count'].dropna().values))\n",
    "print('Median of pull count of Docker Images not using CI automated builds', np.median(Images.query(\"source_repo_source!='CI'\")['pull_count'].dropna().values))"
   ]
  },
  {
   "cell_type": "code",
   "execution_count": null,
   "metadata": {},
   "outputs": [],
   "source": []
  }
 ],
 "metadata": {
  "kernelspec": {
   "display_name": "Python 3.8.2",
   "language": "python",
   "name": "python3.8"
  },
  "language_info": {
   "codemirror_mode": {
    "name": "ipython",
    "version": 3
   },
   "file_extension": ".py",
   "mimetype": "text/x-python",
   "name": "python",
   "nbconvert_exporter": "python",
   "pygments_lexer": "ipython3",
   "version": "3.8.2"
  }
 },
 "nbformat": 4,
 "nbformat_minor": 4
}
